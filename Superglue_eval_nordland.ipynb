{
 "cells": [
  {
   "cell_type": "code",
   "execution_count": null,
   "metadata": {},
   "outputs": [],
   "source": [
    "from pathlib import Path\n",
    "import numpy as np\n",
    "from tqdm.auto import tqdm\n",
    "base_dir = Path('./dump_match_pairs_nordland')"
   ]
  },
  {
   "cell_type": "code",
   "execution_count": null,
   "metadata": {},
   "outputs": [],
   "source": [
    "match_dict = {}\n",
    "for f in tqdm(sorted(base_dir.iterdir())):\n",
    "    if not f.is_file():\n",
    "        continue\n",
    "    im_num1 = int(f.stem[7:12])\n",
    "    im_num2 = int(f.stem[20:25])\n",
    "    if im_num1 > 451 or im_num2 > 451:\n",
    "        continue\n",
    "    matchfile = np.load(f)\n",
    "    matches = matchfile['matches']\n",
    "    confidences = matchfile['match_confidence']\n",
    "    pos_matches_indices = matches>-1\n",
    "    pos_matches = matches[pos_matches_indices]\n",
    "    num_matches = len(pos_matches)\n",
    "    weighted_matches = np.ones(num_matches) * confidences[pos_matches_indices]\n",
    "    weighted_matches_sum = weighted_matches.sum()\n",
    "    # print(weighted_matches)\n",
    "    if im_num1 not in match_dict:\n",
    "        match_dict[im_num1] = {}\n",
    "    match_dict[im_num1][im_num2] = weighted_matches_sum"
   ]
  },
  {
   "cell_type": "code",
   "execution_count": null,
   "metadata": {},
   "outputs": [],
   "source": [
    "n_values = [1, 2, 5]\n",
    "best_matches_diffs = []\n",
    "gt_images = np.array(list(match_dict.keys()))\n",
    "q_images = gt_images.copy()\n",
    "correct_at_n = np.zeros(len(n_values))\n",
    "for idx1, im_num1 in enumerate(match_dict):\n",
    "    all_matches = np.array(list(match_dict[im_num1].values()))\n",
    "    # print(len(all_matches))\n",
    "    match_sorted_idx = np.argsort(all_matches)[::-1]\n",
    "    for i, n in enumerate(n_values):\n",
    "        # print(gt_images[idx1], q_images[match_sorted_idx][0])\n",
    "        if np.any(np.in1d(q_images[match_sorted_idx][:n], gt_images[idx1])):\n",
    "        # if np.any(np.in1d(match_sorted_idx[:n], idx1)):\n",
    "            # print('test', n)\n",
    "            correct_at_n[i:] += 1\n",
    "            break\n",
    "recall_at_n = correct_at_n / len(match_dict)\n",
    "all_recalls = {}  # make dict for output\n",
    "for i, n in enumerate(n_values):\n",
    "    all_recalls[n] = recall_at_n[i]\n",
    "all_recalls"
   ]
  },
  {
   "cell_type": "code",
   "execution_count": null,
   "metadata": {},
   "outputs": [],
   "source": []
  }
 ],
 "metadata": {
  "kernelspec": {
   "display_name": "Python [conda env:netvlad20]",
   "language": "python",
   "name": "conda-env-netvlad20-py"
  },
  "language_info": {
   "codemirror_mode": {
    "name": "ipython",
    "version": 3
   },
   "file_extension": ".py",
   "mimetype": "text/x-python",
   "name": "python",
   "nbconvert_exporter": "python",
   "pygments_lexer": "ipython3",
   "version": "3.7.7"
  },
  "widgets": {
   "application/vnd.jupyter.widget-state+json": {
    "state": {},
    "version_major": 2,
    "version_minor": 0
   }
  }
 },
 "nbformat": 4,
 "nbformat_minor": 4
}
