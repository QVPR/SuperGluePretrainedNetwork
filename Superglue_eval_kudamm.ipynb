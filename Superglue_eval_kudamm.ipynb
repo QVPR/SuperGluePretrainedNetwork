{
 "cells": [
  {
   "cell_type": "code",
   "execution_count": null,
   "metadata": {},
   "outputs": [],
   "source": [
    "from pathlib import Path\n",
    "import numpy as np\n",
    "from tqdm.auto import tqdm\n",
    "import pandas\n",
    "import cv2\n",
    "import copy\n",
    "base_dir = Path('./dump_match_pairs_kudamm')\n",
    "\n",
    "gt_file = pandas.read_csv('/media/storage_hdd/Datasets/Kudamm_RAS2020/GroundTruth.csv')"
   ]
  },
  {
   "cell_type": "code",
   "execution_count": null,
   "metadata": {},
   "outputs": [],
   "source": [
    "match_dict = {}\n",
    "for f in tqdm(sorted(base_dir.iterdir())):\n",
    "    if not f.is_file() or f.suffix != '.npz':\n",
    "        continue\n",
    "\n",
    "    im_num1 = int(f.stem[5:9])\n",
    "    im_num2 = int(f.stem[15:19])\n",
    "    # print(f.stem, im_num1, im_num2)\n",
    "    matchfile = np.load(f)\n",
    "    matches = matchfile['matches']\n",
    "    confidences = matchfile['match_confidence']\n",
    "    pos_matches_indices = matches>-1\n",
    "    pos_matches = matches[pos_matches_indices]\n",
    "    num_matches = len(pos_matches)\n",
    "    weighted_matches = np.ones(num_matches) * confidences[pos_matches_indices]\n",
    "    weighted_matches_sum = weighted_matches.sum()\n",
    "\n",
    "#     if num_matches >= 4:\n",
    "#         src_pts = matchfile['keypoints0'][pos_matches_indices].reshape(-1,1,2)\n",
    "#         dst_pts = matchfile['keypoints1'][pos_matches].reshape(-1,1,2)\n",
    "\n",
    "#         M, mask = cv2.findHomography(src_pts, dst_pts, cv2.RANSAC, 5.0)\n",
    "#         matchesMask = mask.ravel()\n",
    "#         # print(np.count_nonzero(matchesMask > 0))\n",
    "#         ransac_matches = np.count_nonzero(matchesMask > 0)\n",
    "#     else:\n",
    "#         ransac_matches = num_matches\n",
    "    \n",
    "    # print(weighted_matches)\n",
    "    if im_num1 not in match_dict:\n",
    "        match_dict[im_num1] = {}\n",
    "    # match_dict[im_num1][im_num2] = ransac_matches\n",
    "    match_dict[im_num1][im_num2] = num_matches"
   ]
  },
  {
   "cell_type": "code",
   "execution_count": null,
   "metadata": {},
   "outputs": [],
   "source": [
    "gt_images = gt_file.values[:, 0]\n",
    "q_images =  gt_file.values[:, 1]"
   ]
  },
  {
   "cell_type": "code",
   "execution_count": null,
   "metadata": {},
   "outputs": [],
   "source": [
    "n_values = [1, 2, 5]\n",
    "best_matches_diffs = []\n",
    "correct_at_n = np.zeros(len(n_values))\n",
    "for idx1, im_num1 in enumerate(match_dict):\n",
    "    all_matches = np.array(list(match_dict[im_num1].values()))\n",
    "    # print(len(all_matches))\n",
    "    match_sorted_idx = np.argsort(all_matches)[::-1]\n",
    "    # print(gt_images[idx1], match_sorted_idx[:5])\n",
    "    for i, n in enumerate(n_values):\n",
    "        if np.any(np.in1d(q_images[match_sorted_idx][:n], gt_images[idx1])):\n",
    "            correct_at_n[i:] += 1\n",
    "            break\n",
    "recall_at_n = correct_at_n / len(match_dict)\n",
    "all_recalls = {}  # make dict for output\n",
    "for i, n in enumerate(n_values):\n",
    "    all_recalls[n] = recall_at_n[i]\n",
    "all_recalls"
   ]
  },
  {
   "cell_type": "code",
   "execution_count": null,
   "metadata": {},
   "outputs": [],
   "source": [
    "match_dict_ransac  # {1: 0.38738738738738737, 2: 0.5540540540540541, 5: 0.7522522522522522}"
   ]
  },
  {
   "cell_type": "code",
   "execution_count": null,
   "metadata": {},
   "outputs": [],
   "source": []
  }
 ],
 "metadata": {
  "kernelspec": {
   "display_name": "Python [conda env:netvlad20]",
   "language": "python",
   "name": "conda-env-netvlad20-py"
  },
  "language_info": {
   "codemirror_mode": {
    "name": "ipython",
    "version": 3
   },
   "file_extension": ".py",
   "mimetype": "text/x-python",
   "name": "python",
   "nbconvert_exporter": "python",
   "pygments_lexer": "ipython3",
   "version": "3.7.7"
  },
  "widgets": {
   "application/vnd.jupyter.widget-state+json": {
    "state": {},
    "version_major": 2,
    "version_minor": 0
   }
  }
 },
 "nbformat": 4,
 "nbformat_minor": 4
}
